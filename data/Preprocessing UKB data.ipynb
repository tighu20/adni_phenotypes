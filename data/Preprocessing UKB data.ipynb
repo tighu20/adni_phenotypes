{
 "cells": [
  {
   "cell_type": "code",
   "execution_count": 1,
   "metadata": {},
   "outputs": [],
   "source": [
    "import pandas as pd\n",
    "\n",
    "#demo_cols = ['diagnosis', 'age', 'gender', 'eTIV']\n",
    "\n",
    "features_cort = ['thickness_bankssts_lh',  'thickness_caudalanteriorcingulate_lh', 'thickness_caudalmiddlefrontal_lh',  'thickness_cuneus_lh',  'thickness_entorhinal_lh',  'thickness_fusiform_lh',  'thickness_inferiorparietal_lh',  'thickness_inferiortemporal_lh',  'thickness_isthmuscingulate_lh',  'thickness_lateraloccipital_lh',  'thickness_lateralorbitofrontal_lh',  'thickness_lingual_lh',  'thickness_medialorbitofrontal_lh',  'thickness_middletemporal_lh',  'thickness_parahippocampal_lh',  'thickness_paracentral_lh',  'thickness_parsopercularis_lh',  'thickness_parsorbitalis_lh',  'thickness_parstriangularis_lh',  'thickness_pericalcarine_lh',  'thickness_postcentral_lh',  'thickness_posteriorcingulate_lh',  'thickness_precentral_lh',  'thickness_precuneus_lh',  'thickness_rostralanteriorcingulate_lh', 'thickness_rostralmiddlefrontal_lh',  'thickness_superiorfrontal_lh',  'thickness_superiorparietal_lh',  'thickness_superiortemporal_lh',  'thickness_supramarginal_lh',  'thickness_frontalpole_lh',  'thickness_temporalpole_lh',  'thickness_transversetemporal_lh',  'thickness_insula_lh',  'thickness_bankssts_rh',  'thickness_caudalanteriorcingulate_rh', 'thickness_caudalmiddlefrontal_rh',  'thickness_cuneus_rh',  'thickness_entorhinal_rh',  'thickness_fusiform_rh',  'thickness_inferiorparietal_rh',  'thickness_inferiortemporal_rh',  'thickness_isthmuscingulate_rh',  'thickness_lateraloccipital_rh',  'thickness_lateralorbitofrontal_rh',  'thickness_lingual_rh',  'thickness_medialorbitofrontal_rh',  'thickness_middletemporal_rh',  'thickness_parahippocampal_rh',  'thickness_paracentral_rh',  'thickness_parsopercularis_rh',  'thickness_parsorbitalis_rh',  'thickness_parstriangularis_rh',  'thickness_pericalcarine_rh',  'thickness_postcentral_rh',  'thickness_posteriorcingulate_rh',  'thickness_precentral_rh',  'thickness_precuneus_rh',  'thickness_rostralanteriorcingulate_rh', 'thickness_rostralmiddlefrontal_rh',  'thickness_superiorfrontal_rh',  'thickness_superiorparietal_rh',  'thickness_superiortemporal_rh',  'thickness_supramarginal_rh',  'thickness_frontalpole_rh',  'thickness_temporalpole_rh',  'thickness_transversetemporal_rh',  'thickness_insula_rh']\n",
    "\n",
    "features_vol = ['volume_bankssts_lh', 'volume_caudalanteriorcingulate_lh', 'volume_caudalmiddlefrontal_lh', 'volume_cuneus_lh', 'volume_entorhinal_lh', 'volume_fusiform_lh', 'volume_inferiorparietal_lh', 'volume_inferiortemporal_lh', 'volume_isthmuscingulate_lh', 'volume_lateraloccipital_lh', 'volume_lateralorbitofrontal_lh', 'volume_lingual_lh', 'volume_medialorbitofrontal_lh', 'volume_middletemporal_lh', 'volume_parahippocampal_lh', 'volume_paracentral_lh', 'volume_parsopercularis_lh', 'volume_parsorbitalis_lh', 'volume_parstriangularis_lh', 'volume_pericalcarine_lh', 'volume_postcentral_lh', 'volume_posteriorcingulate_lh', 'volume_precentral_lh', 'volume_precuneus_lh', 'volume_rostralanteriorcingulate_lh', 'volume_rostralmiddlefrontal_lh', 'volume_superiorfrontal_lh', 'volume_superiorparietal_lh', 'volume_superiortemporal_lh', 'volume_supramarginal_lh', 'volume_frontalpole_lh', 'volume_temporalpole_lh', 'volume_transversetemporal_lh', 'volume_insula_lh', 'volume_bankssts_rh', 'volume_caudalanteriorcingulate_rh', 'volume_caudalmiddlefrontal_rh', 'volume_cuneus_rh', 'volume_entorhinal_rh', 'volume_fusiform_rh', 'volume_inferiorparietal_rh', 'volume_inferiortemporal_rh', 'volume_isthmuscingulate_rh', 'volume_lateraloccipital_rh', 'volume_lateralorbitofrontal_rh', 'volume_lingual_rh', 'volume_medialorbitofrontal_rh', 'volume_middletemporal_rh', 'volume_parahippocampal_rh', 'volume_paracentral_rh', 'volume_parsopercularis_rh', 'volume_parsorbitalis_rh', 'volume_parstriangularis_rh', 'volume_pericalcarine_rh', 'volume_postcentral_rh', 'volume_posteriorcingulate_rh', 'volume_precentral_rh', 'volume_precuneus_rh', 'volume_rostralanteriorcingulate_rh', 'volume_rostralmiddlefrontal_rh', 'volume_superiorfrontal_rh', 'volume_superiorparietal_rh', 'volume_superiortemporal_rh', 'volume_supramarginal_rh', 'volume_frontalpole_rh', 'volume_temporalpole_rh', 'volume_transversetemporal_rh', 'volume_insula_rh']\n",
    "\n",
    "features_vol_extra = ['volume_Left-Cerebellum-White-Matter', 'volume_Left-Cerebellum-Cortex',\n",
    "                      'volume_Left-Thalamus-Proper', 'volume_Left-Caudate', 'volume_Left-Putamen',\n",
    "                      'volume_Left-Pallidum','volume_Brain-Stem', 'volume_Left-Hippocampus', \n",
    "                      'volume_Left-Amygdala', 'volume_Left-Accumbens-area', 'volume_Right-Cerebellum-White-Matter',\n",
    "                      'volume_Right-Cerebellum-Cortex', 'volume_Right-Thalamus-Proper', 'volume_Right-Caudate',\n",
    "                      'volume_Right-Putamen', 'volume_Right-Pallidum', 'volume_Right-Hippocampus', \n",
    "                      'volume_Right-Amygdala', 'volume_Right-Accumbens-area']\n"
   ]
  },
  {
   "cell_type": "code",
   "execution_count": 2,
   "metadata": {},
   "outputs": [],
   "source": [
    "df_ukb = pd.read_csv('UKBB_freesurfer.csv', sep='\\t')"
   ]
  },
  {
   "cell_type": "code",
   "execution_count": 3,
   "metadata": {},
   "outputs": [
    {
     "data": {
      "text/plain": [
       "(4338611, 7)"
      ]
     },
     "execution_count": 3,
     "metadata": {},
     "output_type": "execute_result"
    }
   ],
   "source": [
    "df_ukb.shape"
   ]
  },
  {
   "cell_type": "code",
   "execution_count": 18,
   "metadata": {},
   "outputs": [
    {
     "name": "stdout",
     "output_type": "stream",
     "text": [
      "Person 1066101 without subcortical regions (68, 7)...\n",
      "Person 1375892 without subcortical regions (68, 7)...\n",
      "Person 1663368 without subcortical regions (68, 7)...\n",
      "Person 1708757 without subcortical regions (68, 7)...\n",
      "Person 1861684 without subcortical regions (68, 7)...\n",
      "Person 2374176 without subcortical regions (68, 7)...\n",
      "Person 2510344 without subcortical regions (68, 7)...\n",
      "Person 2600462 with thicknesses issues (0, 7) at thickness_parahippocampal_rh\n",
      "Person 2697888 with thicknesses issues (0, 7) at thickness_parahippocampal_rh\n",
      "Person 3038010 without subcortical regions (68, 7)...\n",
      "Person 3357251 without subcortical regions (34, 7)...\n",
      "Person 3443644 without subcortical regions (68, 7)...\n",
      "Person 4050225 without subcortical regions (68, 7)...\n",
      "Person 4233166 without subcortical regions (68, 7)...\n",
      "Person 4458197 without subcortical regions (68, 7)...\n",
      "Person 4725245 without subcortical regions (68, 7)...\n",
      "Person 4741700 without subcortical regions (68, 7)...\n",
      "Person 4778281 without subcortical regions (68, 7)...\n",
      "Person 5017345 without subcortical regions (68, 7)...\n",
      "Person 5122061 with thicknesses issues (0, 7) at thickness_parahippocampal_lh\n",
      "Person 5493440 without subcortical regions (68, 7)...\n",
      "Person 5498816 without subcortical regions (68, 7)...\n",
      "Person 5555851 without subcortical regions (68, 7)...\n",
      "Person 5558301 without subcortical regions (68, 7)...\n",
      "Person 5593924 without subcortical regions (68, 7)...\n",
      "Person 5641092 without subcortical regions (68, 7)...\n",
      "Person 5854924 without subcortical regions (68, 7)...\n",
      "CPU times: user 53min 55s, sys: 5.67 s, total: 54min 1s\n",
      "Wall time: 54min 3s\n"
     ]
    }
   ],
   "source": [
    "%%time\n",
    "\n",
    "THICKNESS_COL = 5\n",
    "VOLUME_COL = 4\n",
    "SEX_COL = 2\n",
    "AGE_COL = 1\n",
    "\n",
    "all_data = dict()\n",
    "for person_i in df_ukb.eid.unique():\n",
    "    # Slice dataframe for further quicker access\n",
    "    df_tmp = df_ukb[df_ukb.eid == person_i]\n",
    "    \n",
    "    break_the_loop = False\n",
    "    \n",
    "    if df_tmp.shape[0] < 70:\n",
    "        print(f'Person {person_i} without subcortical regions {df_tmp.shape}...')\n",
    "        continue\n",
    "    \n",
    "    person_dict = dict()\n",
    "    \n",
    "    # Demographics\n",
    "    person_dict['age'] = df_tmp.iat[0, AGE_COL]\n",
    "    person_dict['gender'] = df_tmp.iat[0, SEX_COL]\n",
    "    \n",
    "    # Thicknesses and volumes\n",
    "    for roi_i in features_cort:\n",
    "        roi_name, side = roi_i.split('_')[1], roi_i.split('_')[2]\n",
    "        #print(df_tmp.loc[(df_tmp.StructName == roi_name) & (df_tmp.side == side) , :])\n",
    "        region_slice = df_tmp.loc[(df_tmp.StructName == roi_name) & (df_tmp.side == side) , :]\n",
    "        \n",
    "        if region_slice.shape[0] != 1:\n",
    "            print(f'Person {person_i} with thicknesses issues {region_slice.shape} at {roi_i}')\n",
    "            break_the_loop = True\n",
    "            break\n",
    "        \n",
    "        # Adding to the dict\n",
    "        person_dict[roi_i] = region_slice.iat[0, THICKNESS_COL]\n",
    "        person_dict[roi_i.replace('thickness', 'volume')] = region_slice.iat[0, VOLUME_COL]\n",
    "        \n",
    "    if break_the_loop:\n",
    "        continue\n",
    "        \n",
    "    # Extra volume regions\n",
    "    for roi_i in features_vol_extra:\n",
    "        roi_name = roi_i.replace('volume_', '')\n",
    "\n",
    "        region_slice = df_tmp.loc[df_tmp.StructName == roi_name, :]\n",
    "        if region_slice.shape[0] != 1:\n",
    "            print(f'Person {person_i} with extra volume issues {region_slice.shape} at {roi_i}')\n",
    "            break_the_loop = True\n",
    "            break\n",
    "\n",
    "        person_dict[roi_i] = region_slice.iat[0, VOLUME_COL]\n",
    "    \n",
    "    if break_the_loop:\n",
    "        continue\n",
    "        \n",
    "    # eTIV\n",
    "    person_dict['eTIV'] = df_tmp.loc[df_tmp.StructName == 'EstimatedTotalIntraCranialVol', :].iat[0, VOLUME_COL]\n",
    "    \n",
    "    all_data[person_i] = person_dict"
   ]
  },
  {
   "cell_type": "code",
   "execution_count": 20,
   "metadata": {},
   "outputs": [
    {
     "data": {
      "text/plain": [
       "(38041, 158)"
      ]
     },
     "execution_count": 20,
     "metadata": {},
     "output_type": "execute_result"
    }
   ],
   "source": [
    "df_all = pd.DataFrame.from_dict(all_data, orient='index')\n",
    "df_all.shape"
   ]
  },
  {
   "cell_type": "code",
   "execution_count": 27,
   "metadata": {},
   "outputs": [
    {
     "data": {
      "text/plain": [
       "(37967, 158)"
      ]
     },
     "execution_count": 27,
     "metadata": {},
     "output_type": "execute_result"
    }
   ],
   "source": [
    "df_all = df_all[~df_all.age.isnull() & ~df_all.gender.isnull()]\n",
    "df_all.shape"
   ]
  },
  {
   "cell_type": "code",
   "execution_count": 32,
   "metadata": {},
   "outputs": [
    {
     "data": {
      "text/plain": [
       "array([0., 1.])"
      ]
     },
     "execution_count": 32,
     "metadata": {},
     "output_type": "execute_result"
    }
   ],
   "source": [
    "df_all.gender.unique()"
   ]
  },
  {
   "cell_type": "code",
   "execution_count": 33,
   "metadata": {},
   "outputs": [
    {
     "name": "stderr",
     "output_type": "stream",
     "text": [
      "/local/scratch/tmla2/miniconda/envs/adni_tim/lib/python3.8/site-packages/pandas/core/generic.py:5159: SettingWithCopyWarning: \n",
      "A value is trying to be set on a copy of a slice from a DataFrame.\n",
      "Try using .loc[row_indexer,col_indexer] = value instead\n",
      "\n",
      "See the caveats in the documentation: https://pandas.pydata.org/pandas-docs/stable/user_guide/indexing.html#returning-a-view-versus-a-copy\n",
      "  self[name] = value\n"
     ]
    },
    {
     "data": {
      "text/plain": [
       "array(['Female', 'Male'], dtype=object)"
      ]
     },
     "execution_count": 33,
     "metadata": {},
     "output_type": "execute_result"
    }
   ],
   "source": [
    "df_all.gender = df_all.gender.replace({0: 'Female', 1: 'Male'})\n",
    "df_all.gender.unique()"
   ]
  },
  {
   "cell_type": "code",
   "execution_count": 35,
   "metadata": {},
   "outputs": [],
   "source": [
    "df_all.to_csv('ukb_raw.csv')"
   ]
  },
  {
   "cell_type": "code",
   "execution_count": null,
   "metadata": {},
   "outputs": [],
   "source": []
  },
  {
   "cell_type": "code",
   "execution_count": null,
   "metadata": {},
   "outputs": [],
   "source": []
  },
  {
   "cell_type": "code",
   "execution_count": null,
   "metadata": {},
   "outputs": [],
   "source": []
  }
 ],
 "metadata": {
  "kernelspec": {
   "display_name": "Python 3",
   "language": "python",
   "name": "python3"
  },
  "language_info": {
   "codemirror_mode": {
    "name": "ipython",
    "version": 3
   },
   "file_extension": ".py",
   "mimetype": "text/x-python",
   "name": "python",
   "nbconvert_exporter": "python",
   "pygments_lexer": "ipython3",
   "version": "3.8.5"
  }
 },
 "nbformat": 4,
 "nbformat_minor": 4
}
